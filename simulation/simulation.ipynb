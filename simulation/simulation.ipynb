{
  "nbformat": 4,
  "nbformat_minor": 0,
  "metadata": {
    "colab": {
      "provenance": []
    },
    "kernelspec": {
      "name": "python3",
      "display_name": "Python 3"
    },
    "language_info": {
      "name": "python"
    }
  },
  "cells": [
    {
      "cell_type": "markdown",
      "source": [
        "# P2P solar electricity trading simulation"
      ],
      "metadata": {
        "id": "ot_lH_sCRDtR"
      }
    },
    {
      "cell_type": "code",
      "execution_count": null,
      "metadata": {
        "id": "T1LjuKP1Q_-K"
      },
      "outputs": [],
      "source": [
        "# Import libraries\n",
        "from scipy.interpolate import interp1d\n",
        "from scipy.optimize import fsolve\n",
        "import numpy as np\n",
        "\n",
        "# Simulation function: Find intersection of two curves by interpolating and solving\n",
        "def find_intersection(x, y1, y2):\n",
        "    \"\"\"\n",
        "    Parameters:\n",
        "    - x: Independent variable values\n",
        "    - y1: Values of the first curve\n",
        "    - y2: Values of the second curve\n",
        "\n",
        "    Returns:\n",
        "    - Intersection point of the two curves\n",
        "    \"\"\"\n",
        "\n",
        "    # Create interpolating functions for the two curves\n",
        "    f1 = interp1d(x, y1, kind='linear', bounds_error=False, fill_value=\"extrapolate\")\n",
        "    f2 = interp1d(x, y2, kind='linear', bounds_error=False, fill_value=\"extrapolate\")\n",
        "\n",
        "    # Define the equation to find the intersection point\n",
        "    def equation(x0):\n",
        "        return f1(x0) - f2(x0)\n",
        "\n",
        "    try:\n",
        "        # Use fsolve to find the intersection point, starting guess is 0.5\n",
        "        x_intersection = fsolve(equation, x0=0.5)\n",
        "\n",
        "        # Return the intersection point if it is within the valid range [0, 1]\n",
        "        return x_intersection[0] if 0 <= x_intersection[0] <= 1 else np.nan\n",
        "    except:\n",
        "        return np.nan\n",
        "\n",
        "# Define the prosumer ratios to simulate (1% to 99%)\n",
        "prosumer_ratios = np.arange(0.01, 1, 0.01)\n",
        "\n",
        "# Create a new column for the optimal prosumer ratio\n",
        "municipalities_df['Optimal Prosumer Ratio'] = np.nan\n",
        "\n",
        "# Simulation for each municipality\n",
        "for index, row in municipalities_df.iterrows():\n",
        "    # Check if production is 0 or missing (NaN)\n",
        "    if row[\"Production\"] == 0.0000 or np.isnan(row[\"Production\"]):\n",
        "        continue\n",
        "\n",
        "    self_consumption_ratio = [] # The avoided electricity production exported to the grid\n",
        "    self_sufficiency_ratio = [] # The avoided electricity production imported from the grid\n",
        "\n",
        "    for ratio in prosumer_ratios:\n",
        "\n",
        "        # Calculate production based on the prosumer ratio\n",
        "        production = row[\"Production\"] * ratio / row[\"Prosumer Ratio\"] if row[\"Prosumer Ratio\"] != 0.0000 else 0\n",
        "\n",
        "        # Calculate the adjusted consumption\n",
        "        # 1) Consumption to covered is set to the current solar + the current nuclear power production\n",
        "        municipalities_df[\"Adjusted Consumption\"] = (municipalities_df[\"elec_consumption_mwh_per_year\"] * 0.425)\n",
        "        # 2) Incorporating seasonality into the consumption to be covered\n",
        "        municipalities_df[\"PDR\"] = ((municipalities_df[\"Production\"] / municipalities_df[\"# Producing Buildings\"]) /\n",
        "                                                         (municipalities_df[\"Adjusted Consumption\"] / municipalities_df[\"# Buildings\"]))\n",
        "        municipalities_df[\"Adjusted Consumption\"] = (1.2 *\n",
        "                                                         (municipalities_df[\"Production\"] / municipalities_df[\"# Producing Buildings\"]) *\n",
        "                                                         municipalities_df[\"# Buildings\"] /\n",
        "                                                         municipalities_df[\"PDR\"])\n",
        "        consumption = row[\"Adjusted Consumption\"]\n",
        "\n",
        "        # Calculate energy exported and imported\n",
        "        energy_exported = max(0, production - consumption)\n",
        "        energy_imported = max(0, consumption - production)\n",
        "\n",
        "        # Calculate self-consumption ratio and self-sufficiency ratio\n",
        "        self_consumption_ratio = 1 - (energy_exported / production) if production != 0.0000 else 0\n",
        "        self_sufficiency_ratio = 1 - (energy_imported / consumption) if consumption != 0.0000 else 0\n",
        "\n",
        "        # Append ratios to lists\n",
        "        self_consumption_ratios.append(self_consumption_ratio)\n",
        "        self_sufficiency_ratios.append(self_sufficiency_ratio)\n",
        "\n",
        "    # Find intersection of the two curves\n",
        "    optimal_prosumer_ratio = find_intersection(prosumer_ratios, self_consumption_ratios, self_sufficiency_ratios)\n",
        "\n",
        "    # Set the calculated optimal ratio to the corresponding row in municipalities_df\n",
        "    municipalities_df.at[index, 'Optimal Prosumer Ratio'] = optimal_prosumer_ratio\n",
        "\n",
        "# Save resulting data\n",
        "municipalities_df.to_csv('municipalities_df.csv', index=False)"
      ]
    }
  ]
}